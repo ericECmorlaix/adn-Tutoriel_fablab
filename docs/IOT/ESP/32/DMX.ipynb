{
 "cells": [
  {
   "cell_type": "markdown",
   "metadata": {},
   "source": [
    "A tester sur ESP32 avec analyseur de trame"
   ]
  },
  {
   "cell_type": "code",
   "execution_count": null,
   "metadata": {},
   "outputs": [],
   "source": [
    "import esp32\n",
    "from machine import Pin\n",
    "\n",
    "r = esp32.RMT(2, pin=Pin(18), clock_div=80) # 80 pour avoir 80/80000000 = 1 µs\n",
    "print(r.source_freq()) # 80000000 Hz\n",
    "\n",
    "signal=(88,8,4,44,40,8,40,8,40,8,40) # les durées sont des multiples de 4 x 1 µs \n",
    "r.write_pulses(signal, start=0) # commence par l'état 0"
   ]
  },
  {
   "cell_type": "code",
   "execution_count": 2,
   "metadata": {},
   "outputs": [],
   "source": [
    "trameDMXdec = [150,20,0,0,255,0,0,0,0,0,0,0,0,0,0,0] # les valeurs de 16 canaux"
   ]
  },
  {
   "cell_type": "code",
   "execution_count": 5,
   "metadata": {},
   "outputs": [
    {
     "name": "stdout",
     "output_type": "stream",
     "text": [
      "0000000000000000000000110000000001100110100111000101000110000000001100000000011011111111110000000001100000000011000000000110000000001100000000011000000000110000000001100000000011000000000110000000001100000000011\n",
      "211\n"
     ]
    }
   ],
   "source": [
    "# Conception trameDMXstr chaine de caractères\n",
    "le_break = '0'*22 # 22 états 0\n",
    "le_mab = '11' # Mark After Break\n",
    "code_depart = '0' + '0'*8 + '11' # 1 bit de start à 0 + une valeur = 0 en binaire sur huit bits + 2 bits de stop à 1\n",
    "trameDMXstr = le_break + le_mab + code_depart\n",
    "\n",
    "for i in range(0, len(trameDMXdec)) :\n",
    "    trameX = '0' # bit de start\n",
    "    for masque in [1,2,4,8,16,32,64,128] :\n",
    "        if (trameDMXdec[i] & masque != 0) :\n",
    "            trameX += '1'\n",
    "        else :\n",
    "            trameX += '0'\n",
    "    trameX += '11' # 2 bits de stop\n",
    "    trameDMXstr += trameX\n",
    "    \n",
    "print(trameDMXstr)\n",
    "print(len(trameDMXstr))"
   ]
  },
  {
   "cell_type": "code",
   "execution_count": 6,
   "metadata": {},
   "outputs": [
    {
     "name": "stdout",
     "output_type": "stream",
     "text": [
      "[88, 8, 36, 8, 8, 8, 4, 4, 8, 12, 12, 4, 4, 4, 12, 8, 36, 8, 36, 8, 4, 40, 36, 8, 36, 8, 36, 8, 36, 8, 36, 8, 36, 8, 36, 8, 36, 8, 36, 8, 36, 8, 36, 8]\n"
     ]
    }
   ],
   "source": [
    "# Conception trameRMT à partir du découpage de trameDMXstr\n",
    "trameRMT = [] # liste des durées Etats haut puis Etats bas\n",
    "nb = 0\n",
    "lecture_precedente = '0'\n",
    "\n",
    "for i in range (0, len(trameDMXstr)) :\n",
    "    if trameDMXstr[i] == lecture_precedente :\n",
    "        nb += 4 # 4µs pour 250kHz\n",
    "    else :\n",
    "        trameRMT.append(nb)\n",
    "        lecture_precedente = trameDMXstr[i]\n",
    "        nb = 4\n",
    "trameRMT.append(nb)\n",
    "print(trameRMT)\n"
   ]
  },
  {
   "cell_type": "code",
   "execution_count": null,
   "metadata": {},
   "outputs": [],
   "source": []
  }
 ],
 "metadata": {
  "kernelspec": {
   "display_name": "Python 3",
   "language": "python",
   "name": "python3"
  },
  "language_info": {
   "codemirror_mode": {
    "name": "ipython",
    "version": 3
   },
   "file_extension": ".py",
   "mimetype": "text/x-python",
   "name": "python",
   "nbconvert_exporter": "python",
   "pygments_lexer": "ipython3",
   "version": "3.10.1"
  }
 },
 "nbformat": 4,
 "nbformat_minor": 2
}
